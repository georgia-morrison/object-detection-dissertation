{
  "nbformat": 4,
  "nbformat_minor": 0,
  "metadata": {
    "colab": {
      "provenance": [],
      "authorship_tag": "ABX9TyP3UyywzR2dSQDDqEty/B9m",
      "include_colab_link": true
    },
    "kernelspec": {
      "name": "python3",
      "display_name": "Python 3"
    },
    "language_info": {
      "name": "python"
    }
  },
  "cells": [
    {
      "cell_type": "markdown",
      "metadata": {
        "id": "view-in-github",
        "colab_type": "text"
      },
      "source": [
        "<a href=\"https://colab.research.google.com/github/georgia-morrison/object-detection-dissertation/blob/main/FileSorting.ipynb\" target=\"_parent\"><img src=\"https://colab.research.google.com/assets/colab-badge.svg\" alt=\"Open In Colab\"/></a>"
      ]
    },
    {
      "cell_type": "markdown",
      "source": [
        "# File Sort Code"
      ],
      "metadata": {
        "id": "aMyQ1Sw9u_sD"
      }
    },
    {
      "cell_type": "code",
      "execution_count": null,
      "metadata": {
        "colab": {
          "base_uri": "https://localhost:8080/"
        },
        "id": "FESDumdEu4B6",
        "outputId": "95a6893d-72ab-4513-aba5-4d06255b6c4a"
      },
      "outputs": [
        {
          "output_type": "stream",
          "name": "stdout",
          "text": [
            "Cloning into 'object-detection-dissertation'...\n",
            "remote: Enumerating objects: 20985, done.\u001b[K\n",
            "remote: Counting objects: 100% (1585/1585), done.\u001b[K\n",
            "remote: Compressing objects: 100% (1574/1574), done.\u001b[K\n"
          ]
        }
      ],
      "source": [
        "!git clone https://github.com/georgia-morrison/object-detection-dissertation.git"
      ]
    },
    {
      "cell_type": "markdown",
      "source": [
        "## Importing Packages"
      ],
      "metadata": {
        "id": "iwumlyY4vv7J"
      }
    },
    {
      "cell_type": "code",
      "source": [
        "import os\n",
        "import random\n",
        "import shutil"
      ],
      "metadata": {
        "id": "F6Zd-mMyvqzE"
      },
      "execution_count": null,
      "outputs": []
    },
    {
      "cell_type": "markdown",
      "source": [
        "## Main Body of Code"
      ],
      "metadata": {
        "id": "S23zVUDAv1Lc"
      }
    },
    {
      "cell_type": "code",
      "source": [
        "data_path = \"img/\"\n",
        "\n",
        "# define destination folders\n",
        "train_folder = os.path.join(data_path, 'train')\n",
        "val_folder = os.path.join(data_path, 'val')\n",
        "test_folder = os.path.join(data_path, 'test')\n",
        "\n",
        "# define list of image extensions\n",
        "image_extenstions = ['.jpg', '.png', '.jpeg']\n",
        "\n",
        "# create a list of image filenames\n",
        "image_list = [filename for filename in os.listdir(data_path) if os.path.splitext(filename)[-1] in image_extenstions]\n",
        "\n",
        "# set random seed\n",
        "random.seed()\n",
        "\n",
        "# shuffle the list of filenames\n",
        "random.shuffle(image_list)\n",
        "\n",
        "# determine sizes of sets\n",
        "train_size = int(len(image_list)*0.5)\n",
        "val_size = int(len(image_list)*0.25)\n",
        "test_size = int(len(image_list)*0.25)\n",
        "\n",
        "# copy images to destinations\n",
        "for i, f in enumerate(image_list):\n",
        "  if i < train_size:\n",
        "    dest_folder = train_folder\n",
        "  elif i < train_size + val_size:\n",
        "    dest_folder = val_folder\n",
        "  else:\n",
        "    dest_folder = test_folder\n",
        "  shutil.copy(os.path.join(data_path, f), os.path.join(dest_folder, f))"
      ],
      "metadata": {
        "id": "iriMvN0-v55g"
      },
      "execution_count": null,
      "outputs": []
    }
  ]
}